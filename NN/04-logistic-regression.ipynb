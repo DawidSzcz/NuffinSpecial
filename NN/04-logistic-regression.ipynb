{
 "cells": [
  {
   "cell_type": "code",
   "execution_count": 2,
   "metadata": {
    "collapsed": false
   },
   "outputs": [
    {
     "name": "stdout",
     "output_type": "stream",
     "text": [
      "Populating the interactive namespace from numpy and matplotlib\n"
     ]
    }
   ],
   "source": [
    "%pylab inline"
   ]
  },
  {
   "cell_type": "code",
   "execution_count": 3,
   "metadata": {
    "collapsed": true
   },
   "outputs": [],
   "source": [
    "import pandas as pd"
   ]
  },
  {
   "cell_type": "markdown",
   "metadata": {},
   "source": [
    "Suppose you have gathered some data about heights and weight of people (the dataset we will use comes form https://vincentarelbundock.github.io/Rdatasets/datasets.html). The data contains information about the self-reported and measured heigths and weigths along with the sex of each person."
   ]
  },
  {
   "cell_type": "code",
   "execution_count": 34,
   "metadata": {
    "collapsed": false
   },
   "outputs": [
    {
     "data": {
      "text/html": [
       "<div>\n",
       "<table border=\"1\" class=\"dataframe\">\n",
       "  <thead>\n",
       "    <tr style=\"text-align: right;\">\n",
       "      <th></th>\n",
       "      <th>sex</th>\n",
       "      <th>weight</th>\n",
       "      <th>height</th>\n",
       "      <th>repwt</th>\n",
       "      <th>repht</th>\n",
       "    </tr>\n",
       "  </thead>\n",
       "  <tbody>\n",
       "    <tr>\n",
       "      <th>1</th>\n",
       "      <td>M</td>\n",
       "      <td>77</td>\n",
       "      <td>182</td>\n",
       "      <td>77</td>\n",
       "      <td>180</td>\n",
       "    </tr>\n",
       "    <tr>\n",
       "      <th>2</th>\n",
       "      <td>F</td>\n",
       "      <td>58</td>\n",
       "      <td>161</td>\n",
       "      <td>51</td>\n",
       "      <td>159</td>\n",
       "    </tr>\n",
       "    <tr>\n",
       "      <th>3</th>\n",
       "      <td>F</td>\n",
       "      <td>53</td>\n",
       "      <td>161</td>\n",
       "      <td>54</td>\n",
       "      <td>158</td>\n",
       "    </tr>\n",
       "    <tr>\n",
       "      <th>4</th>\n",
       "      <td>M</td>\n",
       "      <td>68</td>\n",
       "      <td>177</td>\n",
       "      <td>70</td>\n",
       "      <td>175</td>\n",
       "    </tr>\n",
       "    <tr>\n",
       "      <th>5</th>\n",
       "      <td>F</td>\n",
       "      <td>59</td>\n",
       "      <td>157</td>\n",
       "      <td>59</td>\n",
       "      <td>155</td>\n",
       "    </tr>\n",
       "  </tbody>\n",
       "</table>\n",
       "</div>"
      ],
      "text/plain": [
       "  sex  weight  height  repwt  repht\n",
       "1   M      77     182     77    180\n",
       "2   F      58     161     51    159\n",
       "3   F      53     161     54    158\n",
       "4   M      68     177     70    175\n",
       "5   F      59     157     59    155"
      ]
     },
     "execution_count": 34,
     "metadata": {},
     "output_type": "execute_result"
    }
   ],
   "source": [
    "data = pd.read_csv('Davis.csv', index_col=0)\n",
    "data.head()"
   ]
  },
  {
   "cell_type": "markdown",
   "metadata": {},
   "source": [
    "Knowing the height of a person, can we predict the sex?\n",
    "\n",
    "Clearly, the average male is taller than the average woman. We notice that in our dataset there are no woman above 180 cm and no man below 160 cm. Predicting the sex in those regions seems easy, however what about someone 170cm tall?\n",
    "\n",
    "What would like to build a model that can predict the conditional probability of sex given the height of a person. The input to the model is going to be a single real-valued number, the height, while the ouput needs to be a probability value, that is a real number form the $[0,1]$ range."
   ]
  },
  {
   "cell_type": "code",
   "execution_count": 5,
   "metadata": {
    "collapsed": false
   },
   "outputs": [
    {
     "data": {
      "image/png": "[encoded data removed]",
      "text/plain": [
       "<matplotlib.figure.Figure at 0x7f00e9e53e10>"
      ]
     },
     "metadata": {},
     "output_type": "display_data"
    }
   ],
   "source": [
    "scatter(data.height, data.sex=='M', c=data.sex=='M', alpha=0.1)\n",
    "xlim(140,200)\n",
    "xlabel('height [cm]')\n",
    "ylabel('sex 1-Man, 0-Woman')\n",
    "grid()"
   ]
  },
  {
   "cell_type": "markdown",
   "metadata": {},
   "source": [
    "## Logistic regression is for classification\n",
    "\n",
    "We have learned about linear regression - predicting the value of a continuous variable. This was the task in the house pricing and the height vs weight problems we have seen. However, a linear regression model has an unbounded output. To predict the class of a sample (in our example the sex of a person) we want a bounded output.\n",
    "\n",
    "To solve this problem we will use a *squashing function* to confine the model's outputs to the $(0,1)$ range. A very popular function is the logistic sigmoid:\n",
    "$$ g(z) = \\frac{1}{1+e^{-z}} $$\n",
    "\n",
    "Please note, that we can try to fit a model without the squashing function. We can just treat the binary class identifier as a numerical value, and fit the model to it, that is we want the modle to output a number close to 0 for one class and close to 1 for the other class. However, this simplified approach has certain disadvantages. For instance, how do we interpret an output of 2? Is the model extremely confient about its output? Why do we penalize an output of 2 in the same way as the output of 0 (the distance from the target 1 is the same in both cases)?"
   ]
  },
  {
   "cell_type": "code",
   "execution_count": 6,
   "metadata": {
    "collapsed": false
   },
   "outputs": [
    {
     "data": {
      "text/plain": [
       "<matplotlib.text.Text at 0x7f00e7096390>"
      ]
     },
     "execution_count": 6,
     "metadata": {},
     "output_type": "execute_result"
    },
    {
     "data": {
      "image/png": "[encoded data removed]",
      "text/plain": [
       "<matplotlib.figure.Figure at 0x7f00e70bacd0>"
      ]
     },
     "metadata": {},
     "output_type": "display_data"
    }
   ],
   "source": [
    "z = linspace(-6,6,100)\n",
    "plot(z, 1/(1+exp(-z)))\n",
    "title('The logistic sigmoid function')"
   ]
  },
  {
   "cell_type": "markdown",
   "metadata": {},
   "source": [
    "## Logistic regression hypothesis\n",
    "\n",
    "Our hypothesis space contains functions $h(x;\\Theta) = g(\\Theta^Tx)$. Since for all $x$ we have that $h(x,\\Theta)\\in[0,1]$, we can treat the value $h(x,\\Theta)$ as the conditional probability of the sample $x$ belonging to class 1:\n",
    "\n",
    "$$\n",
    "p(y=1|x;\\Theta) = h(x,\\Theta) = g(\\Theta^Tx) = \\frac{1}{1+e^{-\\Theta^Tx}}\n",
    "$$\n",
    "\n",
    "##Logistic regression loss function\n",
    "\n",
    "We will again use the maximum likelihood principle. Please observe that:\n",
    "\n",
    "$$\n",
    "\\begin{align}\n",
    "p(y=y^{(i)}|x^{(i)};\\Theta) &= \\cases{p(y=1|x;\\Theta) &if $y^{(i)}=1$ \\\\ 1-p(y=1|x;\\Theta) &if $y^{(i)}=0$} \\\\\n",
    "&= p(y=1|x;\\Theta)^{y^{(i)}}(1-p(y=1|x;\\Theta))^{(1-y^{(i)})} \\\\\n",
    "&= g(\\Theta^Tx)^{y^{(i)}}(1-g(\\Theta^Tx))^{(1-y^{(i)})}\n",
    "\\end{align}\n",
    "$$\n",
    "\n",
    "Therefore the negative log likelihood ($nll$) is:\n",
    "$$nll(\\Theta) = -\\sum_{i=1}^{N} y^{(i)} \\log g(\\Theta^Tx) + (1-y^{(i)})\\log(1-g(\\Theta^Tx)).$$\n",
    "\n",
    "This loss function is often referred to as the *cross-entropy* loss.\n",
    "\n",
    "## Logistic regression training\n",
    "\n",
    "To fit the logistic regression model we will again need to compute the gradient of the loss function. We will do it in steps. First please observe how simple is the gradient of the logistic sigmoid function:\n",
    "\n",
    "$$ \\frac{\\partial}{\\partial z}g(z) = g(z)(1-g(z))$$\n",
    "\n",
    "Now let $z^{(i)} = \\Theta^Tx^{(i)}$. First lets compute the gradient of the loss on a single sample $nll^{(i)}$:\n",
    "\n",
    "$$\n",
    "\\frac{\\partial nll^{(i)}(\\Theta)}{\\partial \\Theta} = \\frac{\\partial nll^{(i)}}{\\partial z^{(i)}}\\frac{\\partial z^{(i)}}{\\partial\\Theta}\n",
    "$$\n",
    "\n",
    "The derivative of the first term on the right hand turns out to be very simple:\n",
    "\n",
    "$$\n",
    "\\begin{align}\n",
    "\\frac{\\partial nll^{(i)}}{\\partial z^{(i)}} &= \\frac{\\partial -\\left(y^{(i)} \\log g(z^{(i)}) + (1-y^{(i)})\\log(1-g(z^{(i)}))\\right)}{\\partial z^{(i)}} \\\\\n",
    "&= -y^{(i)}\\frac{g(z^{(i)})(1-g(z^{(i)}))}{g(z^{(i)})} + \n",
    "(1-y^{(i)})\\frac{g(z^{(i)})(1-g(z^{(i)}))}{1-g(z^{(i)})} \\\\\n",
    "&= -y^{(i)}(1-g(z^{(i)})) + (1-y^{(i)})g(z^{(i)})\\\\\n",
    "&=g(z^{(i)})-y^{(i)}\n",
    "\\end{align}\n",
    "$$\n",
    "\n",
    "The second term $\\frac{\\partial z^{(i)}}{\\partial\\Theta}$ is also easy:\n",
    "\n",
    "$$\n",
    "\\frac{\\partial z^{(i)}}{\\partial\\Theta} = \\frac{\\partial \\Theta^Tx^{(i)}}{\\partial\\Theta} = x^{(i)}\n",
    "$$\n",
    "\n",
    "Taken together the loss derivative is:\n",
    "\n",
    "$$\n",
    "\\frac{\\partial nll(\\Theta)}{\\partial \\Theta} = \\sum_{i=1}^{N}\\frac{\\partial nll^{(i)}}{\\partial z^{(i)}} = \\sum_{i=1}^{N}\\left(g(z^{(i)})-y^{(i)}\\right)x^{(i)}\n",
    "$$\n",
    "\n",
    "The expression can be further simplified by using the data matrix $X$ (whose $i$-th column is the $i$-th sample), the target matrix $Y$, letting $Z=\\Theta^T X$, and assuming that the function $g()$ is applied separately to all elements of its input.\n",
    "\n",
    "$$\n",
    "\\frac{\\partial nll(\\Theta)}{\\partial \\Theta} = X\\left(g(Z)-Y\\right)^T\n",
    "$$\n",
    "\n",
    "Unfortunately, the gradient of the loss is no longer linear with $\\Theta$. No closed-form solution exists. Therefore we will search for the minimum of the loss function by taking small steps along the gradient of the loss. We will call this the **gradient descent**."
   ]
  },
  {
   "cell_type": "markdown",
   "metadata": {},
   "source": [
    "## The Gradient Descent algorithm\n",
    "\n",
    "The algorithm is very simple:\n",
    "\n",
    "* $\\Theta \\gets $ a sane initial value\n",
    "* `While` not bored:\n",
    "    * $\\Theta \\gets \\Theta - \\alpha \\frac{\\partial J(\\Theta)}{\\partial \\Theta}$\n",
    "\n",
    "We make many $\\alpha$-long steps along the gradient, hoping to reach the optimum. "
   ]
  },
  {
   "cell_type": "code",
   "execution_count": 7,
   "metadata": {
    "collapsed": false
   },
   "outputs": [
    {
     "name": "stdout",
     "output_type": "stream",
     "text": [
      "(2, 200)\n",
      "(1, 200)\n"
     ]
    }
   ],
   "source": [
    "# Note - we divide the height by 100.\n",
    "# Otherwise the simple GD algorithm will have trouble converging.\n",
    "X = np.vstack((np.ones_like(data.height), data.height/100.)).astype(float)\n",
    "print X.shape\n",
    "Y = np.asarray(data.sex=='M')[None,:]\n",
    "print Y.shape"
   ]
  },
  {
   "cell_type": "code",
   "execution_count": 8,
   "metadata": {
    "collapsed": false,
    "scrolled": false
   },
   "outputs": [
    {
     "ename": "ImportError",
     "evalue": "No module named logreg",
     "output_type": "error",
     "traceback": [
      "\u001b[1;31m---------------------------------------------------------------------------\u001b[0m",
      "\u001b[1;31mImportError\u001b[0m                               Traceback (most recent call last)",
      "\u001b[1;32m<ipython-input-8-b9a25143404c>\u001b[0m in \u001b[0;36m<module>\u001b[1;34m()\u001b[0m\n\u001b[0;32m      1\u001b[0m \u001b[1;31m# logistic regression and gradient descent are part of the homework 2\u001b[0m\u001b[1;33m\u001b[0m\u001b[1;33m\u001b[0m\u001b[0m\n\u001b[0;32m      2\u001b[0m \u001b[1;31m# the code will be posted after the homework deadline\u001b[0m\u001b[1;33m\u001b[0m\u001b[1;33m\u001b[0m\u001b[0m\n\u001b[1;32m----> 3\u001b[1;33m \u001b[1;32mimport\u001b[0m \u001b[0mlogreg\u001b[0m\u001b[1;33m\u001b[0m\u001b[0m\n\u001b[0m\u001b[0;32m      4\u001b[0m \u001b[0mreload\u001b[0m\u001b[1;33m(\u001b[0m\u001b[0mlogreg\u001b[0m\u001b[1;33m)\u001b[0m\u001b[1;33m\u001b[0m\u001b[0m\n\u001b[0;32m      5\u001b[0m \u001b[1;32mfrom\u001b[0m \u001b[0mlogreg\u001b[0m \u001b[1;32mimport\u001b[0m \u001b[0mlogreg\u001b[0m\u001b[1;33m\u001b[0m\u001b[0m\n",
      "\u001b[1;31mImportError\u001b[0m: No module named logreg"
     ]
    }
   ],
   "source": [
    "# logistic regression and gradient descent are part of the homework 2\n",
    "# the code will be posted after the homework deadline\n",
    "import logreg\n",
    "reload(logreg)\n",
    "from logreg import logreg\n",
    "\n",
    "#note: the step-size needs to be tuned!\n",
    "ThetaOpt, history = logreg(X,Y, alpha=1e-0, stop_tolerance=1e-8, max_steps=100000)\n",
    "print len(history)\n",
    "print ThetaOpt"
   ]
  },
  {
   "cell_type": "code",
   "execution_count": 9,
   "metadata": {
    "collapsed": false
   },
   "outputs": [
    {
     "ename": "NameError",
     "evalue": "global name 'history' is not defined",
     "output_type": "error",
     "traceback": [
      "\u001b[1;31m---------------------------------------------------------------------------\u001b[0m",
      "\u001b[1;31mNameError\u001b[0m                                 Traceback (most recent call last)",
      "\u001b[1;32m/home/kazek/anaconda3/envs/p2.7/lib/python2.7/site-packages/IPython/core/formatters.pyc\u001b[0m in \u001b[0;36m__call__\u001b[1;34m(self, obj)\u001b[0m\n\u001b[0;32m    332\u001b[0m             \u001b[0mmethod\u001b[0m \u001b[1;33m=\u001b[0m \u001b[0m_safe_get_formatter_method\u001b[0m\u001b[1;33m(\u001b[0m\u001b[0mobj\u001b[0m\u001b[1;33m,\u001b[0m \u001b[0mself\u001b[0m\u001b[1;33m.\u001b[0m\u001b[0mprint_method\u001b[0m\u001b[1;33m)\u001b[0m\u001b[1;33m\u001b[0m\u001b[0m\n\u001b[0;32m    333\u001b[0m             \u001b[1;32mif\u001b[0m \u001b[0mmethod\u001b[0m \u001b[1;32mis\u001b[0m \u001b[1;32mnot\u001b[0m \u001b[0mNone\u001b[0m\u001b[1;33m:\u001b[0m\u001b[1;33m\u001b[0m\u001b[0m\n\u001b[1;32m--> 334\u001b[1;33m                 \u001b[1;32mreturn\u001b[0m \u001b[0mmethod\u001b[0m\u001b[1;33m(\u001b[0m\u001b[1;33m)\u001b[0m\u001b[1;33m\u001b[0m\u001b[0m\n\u001b[0m\u001b[0;32m    335\u001b[0m             \u001b[1;32mreturn\u001b[0m \u001b[0mNone\u001b[0m\u001b[1;33m\u001b[0m\u001b[0m\n\u001b[0;32m    336\u001b[0m         \u001b[1;32melse\u001b[0m\u001b[1;33m:\u001b[0m\u001b[1;33m\u001b[0m\u001b[0m\n",
      "\u001b[1;32m/home/kazek/.local/lib/python2.7/site-packages/JSAnimation/IPython_display.pyc\u001b[0m in \u001b[0;36manim_to_html\u001b[1;34m(anim, fps, embed_frames, default_mode)\u001b[0m\n\u001b[0;32m     74\u001b[0m             anim.save(f.name,  writer=HTMLWriter(fps=fps,\n\u001b[0;32m     75\u001b[0m                                                  \u001b[0membed_frames\u001b[0m\u001b[1;33m=\u001b[0m\u001b[0membed_frames\u001b[0m\u001b[1;33m,\u001b[0m\u001b[1;33m\u001b[0m\u001b[0m\n\u001b[1;32m---> 76\u001b[1;33m                                                  default_mode=default_mode))\n\u001b[0m\u001b[0;32m     77\u001b[0m             \u001b[0mhtml\u001b[0m \u001b[1;33m=\u001b[0m \u001b[0mopen\u001b[0m\u001b[1;33m(\u001b[0m\u001b[0mf\u001b[0m\u001b[1;33m.\u001b[0m\u001b[0mname\u001b[0m\u001b[1;33m)\u001b[0m\u001b[1;33m.\u001b[0m\u001b[0mread\u001b[0m\u001b[1;33m(\u001b[0m\u001b[1;33m)\u001b[0m\u001b[1;33m\u001b[0m\u001b[0m\n\u001b[0;32m     78\u001b[0m \u001b[1;33m\u001b[0m\u001b[0m\n",
      "\u001b[1;32m/home/kazek/anaconda3/envs/p2.7/lib/python2.7/site-packages/matplotlib/animation.pyc\u001b[0m in \u001b[0;36msave\u001b[1;34m(self, filename, writer, fps, dpi, codec, bitrate, extra_args, metadata, extra_anim, savefig_kwargs)\u001b[0m\n\u001b[0;32m    764\u001b[0m                 \u001b[1;32mfor\u001b[0m \u001b[0manim\u001b[0m\u001b[1;33m,\u001b[0m \u001b[0md\u001b[0m \u001b[1;32min\u001b[0m \u001b[0mzip\u001b[0m\u001b[1;33m(\u001b[0m\u001b[0mall_anim\u001b[0m\u001b[1;33m,\u001b[0m \u001b[0mdata\u001b[0m\u001b[1;33m)\u001b[0m\u001b[1;33m:\u001b[0m\u001b[1;33m\u001b[0m\u001b[0m\n\u001b[0;32m    765\u001b[0m                     \u001b[1;31m# TODO: Need to see if turning off blit is really necessary\u001b[0m\u001b[1;33m\u001b[0m\u001b[1;33m\u001b[0m\u001b[0m\n\u001b[1;32m--> 766\u001b[1;33m                     \u001b[0manim\u001b[0m\u001b[1;33m.\u001b[0m\u001b[0m_draw_next_frame\u001b[0m\u001b[1;33m(\u001b[0m\u001b[0md\u001b[0m\u001b[1;33m,\u001b[0m \u001b[0mblit\u001b[0m\u001b[1;33m=\u001b[0m\u001b[0mFalse\u001b[0m\u001b[1;33m)\u001b[0m\u001b[1;33m\u001b[0m\u001b[0m\n\u001b[0m\u001b[0;32m    767\u001b[0m                 \u001b[0mwriter\u001b[0m\u001b[1;33m.\u001b[0m\u001b[0mgrab_frame\u001b[0m\u001b[1;33m(\u001b[0m\u001b[1;33m**\u001b[0m\u001b[0msavefig_kwargs\u001b[0m\u001b[1;33m)\u001b[0m\u001b[1;33m\u001b[0m\u001b[0m\n\u001b[0;32m    768\u001b[0m \u001b[1;33m\u001b[0m\u001b[0m\n",
      "\u001b[1;32m/home/kazek/anaconda3/envs/p2.7/lib/python2.7/site-packages/matplotlib/animation.pyc\u001b[0m in \u001b[0;36m_draw_next_frame\u001b[1;34m(self, framedata, blit)\u001b[0m\n\u001b[0;32m    801\u001b[0m         \u001b[1;31m# post- draw, as well as the drawing of the frame itself.\u001b[0m\u001b[1;33m\u001b[0m\u001b[1;33m\u001b[0m\u001b[0m\n\u001b[0;32m    802\u001b[0m         \u001b[0mself\u001b[0m\u001b[1;33m.\u001b[0m\u001b[0m_pre_draw\u001b[0m\u001b[1;33m(\u001b[0m\u001b[0mframedata\u001b[0m\u001b[1;33m,\u001b[0m \u001b[0mblit\u001b[0m\u001b[1;33m)\u001b[0m\u001b[1;33m\u001b[0m\u001b[0m\n\u001b[1;32m--> 803\u001b[1;33m         \u001b[0mself\u001b[0m\u001b[1;33m.\u001b[0m\u001b[0m_draw_frame\u001b[0m\u001b[1;33m(\u001b[0m\u001b[0mframedata\u001b[0m\u001b[1;33m)\u001b[0m\u001b[1;33m\u001b[0m\u001b[0m\n\u001b[0m\u001b[0;32m    804\u001b[0m         \u001b[0mself\u001b[0m\u001b[1;33m.\u001b[0m\u001b[0m_post_draw\u001b[0m\u001b[1;33m(\u001b[0m\u001b[0mframedata\u001b[0m\u001b[1;33m,\u001b[0m \u001b[0mblit\u001b[0m\u001b[1;33m)\u001b[0m\u001b[1;33m\u001b[0m\u001b[0m\n\u001b[0;32m    805\u001b[0m \u001b[1;33m\u001b[0m\u001b[0m\n",
      "\u001b[1;32m/home/kazek/anaconda3/envs/p2.7/lib/python2.7/site-packages/matplotlib/animation.pyc\u001b[0m in \u001b[0;36m_draw_frame\u001b[1;34m(self, framedata)\u001b[0m\n\u001b[0;32m   1104\u001b[0m         \u001b[1;31m# Call the func with framedata and args. If blitting is desired,\u001b[0m\u001b[1;33m\u001b[0m\u001b[1;33m\u001b[0m\u001b[0m\n\u001b[0;32m   1105\u001b[0m         \u001b[1;31m# func needs to return a sequence of any artists that were modified.\u001b[0m\u001b[1;33m\u001b[0m\u001b[1;33m\u001b[0m\u001b[0m\n\u001b[1;32m-> 1106\u001b[1;33m         \u001b[0mself\u001b[0m\u001b[1;33m.\u001b[0m\u001b[0m_drawn_artists\u001b[0m \u001b[1;33m=\u001b[0m \u001b[0mself\u001b[0m\u001b[1;33m.\u001b[0m\u001b[0m_func\u001b[0m\u001b[1;33m(\u001b[0m\u001b[0mframedata\u001b[0m\u001b[1;33m,\u001b[0m \u001b[1;33m*\u001b[0m\u001b[0mself\u001b[0m\u001b[1;33m.\u001b[0m\u001b[0m_args\u001b[0m\u001b[1;33m)\u001b[0m\u001b[1;33m\u001b[0m\u001b[0m\n\u001b[0m",
      "\u001b[1;32m<ipython-input-9-7095e0c4ba45>\u001b[0m in \u001b[0;36manimate\u001b[1;34m(i)\u001b[0m\n\u001b[0;32m     19\u001b[0m \u001b[1;33m\u001b[0m\u001b[0m\n\u001b[0;32m     20\u001b[0m \u001b[1;32mdef\u001b[0m \u001b[0manimate\u001b[0m\u001b[1;33m(\u001b[0m\u001b[0mi\u001b[0m\u001b[1;33m)\u001b[0m\u001b[1;33m:\u001b[0m\u001b[1;33m\u001b[0m\u001b[0m\n\u001b[1;32m---> 21\u001b[1;33m     \u001b[0mepoch\u001b[0m \u001b[1;33m=\u001b[0m \u001b[0mint\u001b[0m\u001b[1;33m(\u001b[0m\u001b[1;36m1.0\u001b[0m\u001b[1;33m*\u001b[0m\u001b[0mlen\u001b[0m\u001b[1;33m(\u001b[0m\u001b[0mhistory\u001b[0m\u001b[1;33m)\u001b[0m\u001b[1;33m/\u001b[0m\u001b[0mnum_frames\u001b[0m\u001b[1;33m*\u001b[0m\u001b[0mi\u001b[0m\u001b[1;33m)\u001b[0m\u001b[1;33m\u001b[0m\u001b[0m\n\u001b[0m\u001b[0;32m     22\u001b[0m     \u001b[0mTheta\u001b[0m \u001b[1;33m=\u001b[0m \u001b[0mhistory\u001b[0m\u001b[1;33m[\u001b[0m\u001b[0mepoch\u001b[0m\u001b[1;33m]\u001b[0m\u001b[1;33m\u001b[0m\u001b[0m\n\u001b[0;32m     23\u001b[0m     \u001b[0max\u001b[0m\u001b[1;33m.\u001b[0m\u001b[0mset_title\u001b[0m\u001b[1;33m(\u001b[0m\u001b[1;34m'Epoch %d, Theta: %s'\u001b[0m \u001b[1;33m%\u001b[0m \u001b[1;33m(\u001b[0m\u001b[0mepoch\u001b[0m\u001b[1;33m,\u001b[0m \u001b[0mTheta\u001b[0m\u001b[1;33m,\u001b[0m\u001b[1;33m)\u001b[0m\u001b[1;33m)\u001b[0m\u001b[1;33m\u001b[0m\u001b[0m\n",
      "\u001b[1;31mNameError\u001b[0m: global name 'history' is not defined"
     ]
    },
    {
     "data": {
      "text/plain": [
       "<matplotlib.animation.FuncAnimation at 0x7f00e71ee0d0>"
      ]
     },
     "execution_count": 9,
     "metadata": {},
     "output_type": "execute_result"
    }
   ],
   "source": [
    "from matplotlib import animation, pyplot\n",
    "from JSAnimation import IPython_display\n",
    "\n",
    "fig = plt.figure()\n",
    "ax = plt.axes(xlim=(1.40,2.05), ylim=(-0.2, 1.2))\n",
    "ax.scatter(X[1,:], Y[0,:], c=Y[0,:], cmap='spring')\n",
    "\n",
    "xx = np.vstack((np.ones((100,)), np.linspace(ax.get_xlim()[0], ax.get_xlim()[1], 100)))\n",
    "num_frames=100\n",
    "line, = ax.plot([],[])\n",
    "\n",
    "xlabel('height [m]')\n",
    "ylabel('sex 1-Man, 0-Woman')\n",
    "grid()\n",
    "\n",
    "def init():\n",
    "    line.set_data([], [])\n",
    "    return line,\n",
    "\n",
    "def animate(i):\n",
    "    epoch = int(1.0*len(history)/num_frames*i)\n",
    "    Theta = history[epoch]\n",
    "    ax.set_title('Epoch %d, Theta: %s' % (epoch, Theta,))\n",
    "    yy = 1.0/(1.0 + np.exp(-Theta.T.dot(xx)))\n",
    "    line.set_data(xx[1,:], yy)\n",
    "    return line,\n",
    "\n",
    "animation.FuncAnimation(fig, animate, init_func=init,\n",
    "                        frames=100, interval=30)"
   ]
  },
  {
   "cell_type": "code",
   "execution_count": null,
   "metadata": {
    "collapsed": true
   },
   "outputs": [],
   "source": []
  },
  {
   "cell_type": "markdown",
   "metadata": {
    "collapsed": false
   },
   "source": [
    "## Batch vs Stochastic gradient descent\n",
    "\n",
    "The gradient descent algorithm works and finds a reasonable solution. However, sometimes we would like to have an algorithm which updates the model after seeing each example:\n",
    "\n",
    "1. We may have an infinite stream of data - we cannot wait until we see all of it.\n",
    "2. We may have a redundant data set - many samples are similar, maybe ysing fewer would give us simiar precision?\n",
    "\n",
    "The very simple idea we will use is to compute gradient only on one (or a few) samples at each iteration. We will call this new algorithm the **stochastic gradient descent**:\n",
    "\n",
    "* $\\Theta \\gets$ a sane initial value\n",
    "* $t \\gets 0$ # the step counter\n",
    "* `while` not bored\n",
    "    * `for` $s$ `in` shuffled training samples\n",
    "        * $\\Theta \\gets \\Theta - \\alpha_t \\frac{\\partial \\text{loss on example $s$}(\\Theta)}{\\partial\\Theta}$\n",
    "        \n",
    "**Important note**: In normal gradient descent the gradient tends to zero as we approach the optimum point, and it is possible to learn without tuning the learning rate. Now we need to *anneal* it ($\\alpha_t$ must tend to $0$ with $t$).\n",
    "\n",
    "### Rules for tuning the step size\n",
    "\n",
    "In general there are two conditions on the annealing schedule for $\\alpha$:\n",
    "\n",
    "1. $\\sum_{t=1}^\\infty \\alpha_t^2 < \\infty$\n",
    "2. $\\sum_{t=1}^\\infty \\alpha_t = \\infty$\n",
    "\n",
    "Or intuitively, we need to converge to a solution (1.), but we also need to be able to get arbitrarily far from the starting point (2.). \n",
    "\n",
    "In practice, we use a step size rule similar to:\n",
    "$$\n",
    "\\alpha_t = \\alpha_0 \\frac{\\tau}{\\max(\\tau, t)}\n",
    "$$\n",
    "unfortunately, we need to tune the step size.\n",
    "\n",
    "### Interpretation of stochastic gradient descent\n",
    "\n",
    "We assume that there is a data generating distribution, $P(X,Y)$. We want to minimize the expected value of a loss $J$ function over it. Thus our ultimate goal is to solve:\n",
    "\n",
    "$$\n",
    "\\min_\\Theta \\mathbb{E}[J(x,y,\\Theta)]_{x,y \\sim P(X,Y)}\n",
    "$$\n",
    "\n",
    "However, we cannot compute the expected value, since we do not know the distribution $P(x,y)$. All we can do is approximate the expectation with the mean over the training set:\n",
    "\n",
    "$$\n",
    "\\min_\\Theta \\mathbb{E}[J(x,y,\\Theta)]_{x,y \\sim P(X,Y)} \\approx \\min_\\Theta \\frac{1}{N}\\sum_{i=1}^N J(x^{(i)},y^{(i)},\\Theta)\n",
    "$$\n",
    "\n",
    "In **batch gradient descent** we use the full training dataset to compute the expected loss and its gradient.\n",
    "\n",
    "In **stochastic gradient descent** sample one example from the traing set, take step in the direction of the gradient on that example, then sample enother example, then another... This works, because the expected value is a liner operator and the gradient of the expected loss is the expected gradient of the loss:\n",
    "\n",
    "$$\n",
    "\\frac{\\partial \\mathbb{E}[J(x,y,\\Theta)]_{x,y \\sim P(X,Y)}}{\\partial\\Theta} = \\mathbb{E}\\left[\\frac{\\partial J(x,y,\\Theta)}{\\partial\\Theta}\\right]_{x,y \\sim P(X,Y)}\n",
    "$$\n",
    "\n",
    "On very large and redundant datasets stochastic gradient descent may be a lot faster. First, if model parameters are very far from their optimum, even a few examples may point us in the large direction. Second, the loss function we minimize may be very curvy and even with the perfect gradient we cannot take a large step. It is beneficial to take many spall steps quickly. Lastly, stochastic gradient descent may be more resilient to local optimas. "
   ]
  },
  {
   "cell_type": "code",
   "execution_count": 10,
   "metadata": {
    "collapsed": false,
    "scrolled": false
   },
   "outputs": [
    {
     "ename": "ImportError",
     "evalue": "No module named logreg",
     "output_type": "error",
     "traceback": [
      "\u001b[1;31m---------------------------------------------------------------------------\u001b[0m",
      "\u001b[1;31mImportError\u001b[0m                               Traceback (most recent call last)",
      "\u001b[1;32m<ipython-input-10-599a8285b123>\u001b[0m in \u001b[0;36m<module>\u001b[1;34m()\u001b[0m\n\u001b[0;32m      1\u001b[0m \u001b[1;31m# logistic regression and gradient descent are part of the homework 2\u001b[0m\u001b[1;33m\u001b[0m\u001b[1;33m\u001b[0m\u001b[0m\n\u001b[0;32m      2\u001b[0m \u001b[1;31m# the code will be posted after the homework deadline\u001b[0m\u001b[1;33m\u001b[0m\u001b[1;33m\u001b[0m\u001b[0m\n\u001b[1;32m----> 3\u001b[1;33m \u001b[1;32mimport\u001b[0m \u001b[0mlogreg\u001b[0m\u001b[1;33m\u001b[0m\u001b[0m\n\u001b[0m\u001b[0;32m      4\u001b[0m \u001b[0mreload\u001b[0m\u001b[1;33m(\u001b[0m\u001b[0mlogreg\u001b[0m\u001b[1;33m)\u001b[0m\u001b[1;33m\u001b[0m\u001b[0m\n\u001b[0;32m      5\u001b[0m \u001b[1;32mfrom\u001b[0m \u001b[0mlogreg\u001b[0m \u001b[1;32mimport\u001b[0m \u001b[0msgd_logreg\u001b[0m\u001b[1;33m\u001b[0m\u001b[0m\n",
      "\u001b[1;31mImportError\u001b[0m: No module named logreg"
     ]
    }
   ],
   "source": [
    "# logistic regression and gradient descent are part of the homework 2\n",
    "# the code will be posted after the homework deadline\n",
    "import logreg\n",
    "reload(logreg)\n",
    "from logreg import sgd_logreg\n",
    "\n",
    "#note: the step-size annealing schedule needs to be tuned!\n",
    "ThetaOptSGD, history_sgd = sgd_logreg(X,Y, alpha_fun=lambda t: 1e-1/np.maximum(1, t/1e5), max_steps=2e6)\n",
    "print len(history_sgd)\n",
    "print ThetaOpt"
   ]
  },
  {
   "cell_type": "code",
   "execution_count": 11,
   "metadata": {
    "collapsed": false
   },
   "outputs": [
    {
     "ename": "NameError",
     "evalue": "global name 'history_sgd' is not defined",
     "output_type": "error",
     "traceback": [
      "\u001b[1;31m---------------------------------------------------------------------------\u001b[0m",
      "\u001b[1;31mNameError\u001b[0m                                 Traceback (most recent call last)",
      "\u001b[1;32m/home/kazek/anaconda3/envs/p2.7/lib/python2.7/site-packages/IPython/core/formatters.pyc\u001b[0m in \u001b[0;36m__call__\u001b[1;34m(self, obj)\u001b[0m\n\u001b[0;32m    332\u001b[0m             \u001b[0mmethod\u001b[0m \u001b[1;33m=\u001b[0m \u001b[0m_safe_get_formatter_method\u001b[0m\u001b[1;33m(\u001b[0m\u001b[0mobj\u001b[0m\u001b[1;33m,\u001b[0m \u001b[0mself\u001b[0m\u001b[1;33m.\u001b[0m\u001b[0mprint_method\u001b[0m\u001b[1;33m)\u001b[0m\u001b[1;33m\u001b[0m\u001b[0m\n\u001b[0;32m    333\u001b[0m             \u001b[1;32mif\u001b[0m \u001b[0mmethod\u001b[0m \u001b[1;32mis\u001b[0m \u001b[1;32mnot\u001b[0m \u001b[0mNone\u001b[0m\u001b[1;33m:\u001b[0m\u001b[1;33m\u001b[0m\u001b[0m\n\u001b[1;32m--> 334\u001b[1;33m                 \u001b[1;32mreturn\u001b[0m \u001b[0mmethod\u001b[0m\u001b[1;33m(\u001b[0m\u001b[1;33m)\u001b[0m\u001b[1;33m\u001b[0m\u001b[0m\n\u001b[0m\u001b[0;32m    335\u001b[0m             \u001b[1;32mreturn\u001b[0m \u001b[0mNone\u001b[0m\u001b[1;33m\u001b[0m\u001b[0m\n\u001b[0;32m    336\u001b[0m         \u001b[1;32melse\u001b[0m\u001b[1;33m:\u001b[0m\u001b[1;33m\u001b[0m\u001b[0m\n",
      "\u001b[1;32m/home/kazek/.local/lib/python2.7/site-packages/JSAnimation/IPython_display.pyc\u001b[0m in \u001b[0;36manim_to_html\u001b[1;34m(anim, fps, embed_frames, default_mode)\u001b[0m\n\u001b[0;32m     74\u001b[0m             anim.save(f.name,  writer=HTMLWriter(fps=fps,\n\u001b[0;32m     75\u001b[0m                                                  \u001b[0membed_frames\u001b[0m\u001b[1;33m=\u001b[0m\u001b[0membed_frames\u001b[0m\u001b[1;33m,\u001b[0m\u001b[1;33m\u001b[0m\u001b[0m\n\u001b[1;32m---> 76\u001b[1;33m                                                  default_mode=default_mode))\n\u001b[0m\u001b[0;32m     77\u001b[0m             \u001b[0mhtml\u001b[0m \u001b[1;33m=\u001b[0m \u001b[0mopen\u001b[0m\u001b[1;33m(\u001b[0m\u001b[0mf\u001b[0m\u001b[1;33m.\u001b[0m\u001b[0mname\u001b[0m\u001b[1;33m)\u001b[0m\u001b[1;33m.\u001b[0m\u001b[0mread\u001b[0m\u001b[1;33m(\u001b[0m\u001b[1;33m)\u001b[0m\u001b[1;33m\u001b[0m\u001b[0m\n\u001b[0;32m     78\u001b[0m \u001b[1;33m\u001b[0m\u001b[0m\n",
      "\u001b[1;32m/home/kazek/anaconda3/envs/p2.7/lib/python2.7/site-packages/matplotlib/animation.pyc\u001b[0m in \u001b[0;36msave\u001b[1;34m(self, filename, writer, fps, dpi, codec, bitrate, extra_args, metadata, extra_anim, savefig_kwargs)\u001b[0m\n\u001b[0;32m    764\u001b[0m                 \u001b[1;32mfor\u001b[0m \u001b[0manim\u001b[0m\u001b[1;33m,\u001b[0m \u001b[0md\u001b[0m \u001b[1;32min\u001b[0m \u001b[0mzip\u001b[0m\u001b[1;33m(\u001b[0m\u001b[0mall_anim\u001b[0m\u001b[1;33m,\u001b[0m \u001b[0mdata\u001b[0m\u001b[1;33m)\u001b[0m\u001b[1;33m:\u001b[0m\u001b[1;33m\u001b[0m\u001b[0m\n\u001b[0;32m    765\u001b[0m                     \u001b[1;31m# TODO: Need to see if turning off blit is really necessary\u001b[0m\u001b[1;33m\u001b[0m\u001b[1;33m\u001b[0m\u001b[0m\n\u001b[1;32m--> 766\u001b[1;33m                     \u001b[0manim\u001b[0m\u001b[1;33m.\u001b[0m\u001b[0m_draw_next_frame\u001b[0m\u001b[1;33m(\u001b[0m\u001b[0md\u001b[0m\u001b[1;33m,\u001b[0m \u001b[0mblit\u001b[0m\u001b[1;33m=\u001b[0m\u001b[0mFalse\u001b[0m\u001b[1;33m)\u001b[0m\u001b[1;33m\u001b[0m\u001b[0m\n\u001b[0m\u001b[0;32m    767\u001b[0m                 \u001b[0mwriter\u001b[0m\u001b[1;33m.\u001b[0m\u001b[0mgrab_frame\u001b[0m\u001b[1;33m(\u001b[0m\u001b[1;33m**\u001b[0m\u001b[0msavefig_kwargs\u001b[0m\u001b[1;33m)\u001b[0m\u001b[1;33m\u001b[0m\u001b[0m\n\u001b[0;32m    768\u001b[0m \u001b[1;33m\u001b[0m\u001b[0m\n",
      "\u001b[1;32m/home/kazek/anaconda3/envs/p2.7/lib/python2.7/site-packages/matplotlib/animation.pyc\u001b[0m in \u001b[0;36m_draw_next_frame\u001b[1;34m(self, framedata, blit)\u001b[0m\n\u001b[0;32m    801\u001b[0m         \u001b[1;31m# post- draw, as well as the drawing of the frame itself.\u001b[0m\u001b[1;33m\u001b[0m\u001b[1;33m\u001b[0m\u001b[0m\n\u001b[0;32m    802\u001b[0m         \u001b[0mself\u001b[0m\u001b[1;33m.\u001b[0m\u001b[0m_pre_draw\u001b[0m\u001b[1;33m(\u001b[0m\u001b[0mframedata\u001b[0m\u001b[1;33m,\u001b[0m \u001b[0mblit\u001b[0m\u001b[1;33m)\u001b[0m\u001b[1;33m\u001b[0m\u001b[0m\n\u001b[1;32m--> 803\u001b[1;33m         \u001b[0mself\u001b[0m\u001b[1;33m.\u001b[0m\u001b[0m_draw_frame\u001b[0m\u001b[1;33m(\u001b[0m\u001b[0mframedata\u001b[0m\u001b[1;33m)\u001b[0m\u001b[1;33m\u001b[0m\u001b[0m\n\u001b[0m\u001b[0;32m    804\u001b[0m         \u001b[0mself\u001b[0m\u001b[1;33m.\u001b[0m\u001b[0m_post_draw\u001b[0m\u001b[1;33m(\u001b[0m\u001b[0mframedata\u001b[0m\u001b[1;33m,\u001b[0m \u001b[0mblit\u001b[0m\u001b[1;33m)\u001b[0m\u001b[1;33m\u001b[0m\u001b[0m\n\u001b[0;32m    805\u001b[0m \u001b[1;33m\u001b[0m\u001b[0m\n",
      "\u001b[1;32m/home/kazek/anaconda3/envs/p2.7/lib/python2.7/site-packages/matplotlib/animation.pyc\u001b[0m in \u001b[0;36m_draw_frame\u001b[1;34m(self, framedata)\u001b[0m\n\u001b[0;32m   1104\u001b[0m         \u001b[1;31m# Call the func with framedata and args. If blitting is desired,\u001b[0m\u001b[1;33m\u001b[0m\u001b[1;33m\u001b[0m\u001b[0m\n\u001b[0;32m   1105\u001b[0m         \u001b[1;31m# func needs to return a sequence of any artists that were modified.\u001b[0m\u001b[1;33m\u001b[0m\u001b[1;33m\u001b[0m\u001b[0m\n\u001b[1;32m-> 1106\u001b[1;33m         \u001b[0mself\u001b[0m\u001b[1;33m.\u001b[0m\u001b[0m_drawn_artists\u001b[0m \u001b[1;33m=\u001b[0m \u001b[0mself\u001b[0m\u001b[1;33m.\u001b[0m\u001b[0m_func\u001b[0m\u001b[1;33m(\u001b[0m\u001b[0mframedata\u001b[0m\u001b[1;33m,\u001b[0m \u001b[1;33m*\u001b[0m\u001b[0mself\u001b[0m\u001b[1;33m.\u001b[0m\u001b[0m_args\u001b[0m\u001b[1;33m)\u001b[0m\u001b[1;33m\u001b[0m\u001b[0m\n\u001b[0m",
      "\u001b[1;32m<ipython-input-11-84088f8d948b>\u001b[0m in \u001b[0;36manimate\u001b[1;34m(i)\u001b[0m\n\u001b[0;32m     16\u001b[0m \u001b[1;33m\u001b[0m\u001b[0m\n\u001b[0;32m     17\u001b[0m \u001b[1;32mdef\u001b[0m \u001b[0manimate\u001b[0m\u001b[1;33m(\u001b[0m\u001b[0mi\u001b[0m\u001b[1;33m)\u001b[0m\u001b[1;33m:\u001b[0m\u001b[1;33m\u001b[0m\u001b[0m\n\u001b[1;32m---> 18\u001b[1;33m     \u001b[0mstep\u001b[0m \u001b[1;33m=\u001b[0m \u001b[0mint\u001b[0m\u001b[1;33m(\u001b[0m\u001b[1;36m1.0\u001b[0m\u001b[1;33m*\u001b[0m\u001b[0mlen\u001b[0m\u001b[1;33m(\u001b[0m\u001b[0mhistory_sgd\u001b[0m\u001b[1;33m)\u001b[0m\u001b[1;33m/\u001b[0m\u001b[0mnum_frames\u001b[0m\u001b[1;33m*\u001b[0m\u001b[0mi\u001b[0m\u001b[1;33m)\u001b[0m\u001b[1;33m\u001b[0m\u001b[0m\n\u001b[0m\u001b[0;32m     19\u001b[0m     \u001b[0mTheta\u001b[0m \u001b[1;33m=\u001b[0m \u001b[0mhistory_sgd\u001b[0m\u001b[1;33m[\u001b[0m\u001b[0mstep\u001b[0m\u001b[1;33m]\u001b[0m\u001b[1;33m\u001b[0m\u001b[0m\n\u001b[0;32m     20\u001b[0m     \u001b[0max\u001b[0m\u001b[1;33m.\u001b[0m\u001b[0mset_title\u001b[0m\u001b[1;33m(\u001b[0m\u001b[1;34m'Step %d (epoch %f), Theta: %s'\u001b[0m \u001b[1;33m%\u001b[0m \u001b[1;33m(\u001b[0m\u001b[0mstep\u001b[0m\u001b[1;33m,\u001b[0m \u001b[1;36m1.0\u001b[0m\u001b[1;33m*\u001b[0m \u001b[0mstep\u001b[0m\u001b[1;33m/\u001b[0m\u001b[0mX\u001b[0m\u001b[1;33m.\u001b[0m\u001b[0mshape\u001b[0m\u001b[1;33m[\u001b[0m\u001b[1;36m1\u001b[0m\u001b[1;33m]\u001b[0m\u001b[1;33m,\u001b[0m \u001b[0mlist\u001b[0m\u001b[1;33m(\u001b[0m\u001b[0mTheta\u001b[0m\u001b[1;33m.\u001b[0m\u001b[0mflat\u001b[0m\u001b[1;33m)\u001b[0m\u001b[1;33m,\u001b[0m\u001b[1;33m)\u001b[0m\u001b[1;33m)\u001b[0m\u001b[1;33m\u001b[0m\u001b[0m\n",
      "\u001b[1;31mNameError\u001b[0m: global name 'history_sgd' is not defined"
     ]
    },
    {
     "data": {
      "text/plain": [
       "<matplotlib.animation.FuncAnimation at 0x7f00e6f02dd0>"
      ]
     },
     "execution_count": 11,
     "metadata": {},
     "output_type": "execute_result"
    }
   ],
   "source": [
    "fig = plt.figure()\n",
    "ax = plt.axes(xlim=(1.40,2.05), ylim=(-0.2, 1.2))\n",
    "ax.scatter(X[1,:], Y[0,:], c=Y[0,:], cmap='spring')\n",
    "\n",
    "xx = np.vstack((np.ones((100,)), np.linspace(ax.get_xlim()[0], ax.get_xlim()[1], 100)))\n",
    "num_frames=100\n",
    "line, = ax.plot([],[])\n",
    "\n",
    "xlabel('height [m]')\n",
    "ylabel('sex 1-Man, 0-Woman')\n",
    "grid()\n",
    "\n",
    "def init():\n",
    "    line.set_data([], [])\n",
    "    return line,\n",
    "\n",
    "def animate(i):\n",
    "    step = int(1.0*len(history_sgd)/num_frames*i)\n",
    "    Theta = history_sgd[step]\n",
    "    ax.set_title('Step %d (epoch %f), Theta: %s' % (step, 1.0* step/X.shape[1], list(Theta.flat),))\n",
    "    yy = 1.0/(1.0 + np.exp(-Theta.T.dot(xx)))\n",
    "    line.set_data(xx[1,:], yy)\n",
    "    return line,\n",
    "\n",
    "animation.FuncAnimation(fig, animate, init_func=init,\n",
    "                        frames=100, interval=30)"
   ]
  },
  {
   "cell_type": "markdown",
   "metadata": {},
   "source": [
    "## Historical flashback - the Perceptron algorithm\n",
    "\n",
    "One very famous early attempt at learning was the Perceptron (F. Rosenblatt, 1957).\n",
    "\n",
    "![The preceptron machine](04-perceptron.png)\n",
    "\n",
    "At its core, the perceptron learns a classifier function:\n",
    "\n",
    "$$\n",
    "h(x,\\Theta) = \\begin{cases}\n",
    "    1 & \\text{if } \\Theta^Tx \\geq 0 \\\\\n",
    "    0 & \\text{otherwise}\n",
    "\\end{cases}\n",
    "$$\n",
    "\n",
    "It is trained using the following on-line algorithm:\n",
    "\n",
    "* $\\Theta \\gets$ a sane initial value\n",
    "* `while` not converged\n",
    "    * `for` $s$ `in` shuffled training samples\n",
    "        * $\\Theta \\gets \\Theta + \\alpha (y^{(i)}-h(x^{(i)}, \\Theta))x^{(i)}$\n",
    "        \n",
    "Please note, that this is similar in operation to the stochastic gradient descent over the logistic regression loss. However, the perceptron's output is not differentiable: it is a hard threshold function. Also, the preceptron only learns on its *mistakes*, i.e. the parameters $\\Theta$ are changed only when $y^{(i)} \\neq h(x^{(i)}, \\Theta)$.\n",
    "\n",
    "When the trainng data are linearly separable (i.e. there exist a hyperplane that separates the two classes), the perceptron algorithm finds such a hyperplane and converges (it makes no mistakes, thus no further updates to $\\Theta$ are made)."
   ]
  },
  {
   "cell_type": "markdown",
   "metadata": {},
   "source": [
    "## Softmax regression - dealing with multiple classes\n",
    "\n",
    "When we have $k$ classes we need a model that can predict the probability distribution over all classes. An easy solution is to assume that our model has $k$ outputs, each in the range $[0,1]$ and summing to $1$.\n",
    "\n",
    "Typically, we will learn a set of parameters for each class. Therefore, $\\Theta$ will be a matrix of size $n \\times k$ where $n$ is the number of data features (including the bias terms), and $k$ is the number of classes. Therefore $z = \\Theta^T x$ will be a vector of $k$ per-class scores. We will normalize them using the SoftMax function:\n",
    "\n",
    "$$\n",
    "\\text{SoftMax}(z)_j = \\frac{e^{z_j}}{\\sum_k e^{z_k}}\n",
    "$$\n",
    "\n",
    "The model learns the function\n",
    "\n",
    "$$\n",
    "h(x, \\Theta) = \\text{SoftMax}(\\Theta^Tx).\n",
    "$$\n",
    "\n",
    "The SoftMax regression loss is the $k$-class cross-entropy:\n",
    "\n",
    "$$\n",
    "J(\\Theta) = -\\sum_{i=1}^N\\sum_k[y^{(i)}=k]\\log \\left(h(x^{(i)}, \\Theta)_k\\right)\n",
    "$$"
   ]
  },
  {
   "cell_type": "markdown",
   "metadata": {},
   "source": [
    "### Examples of softmax regression\n",
    "\n",
    "We can look at the results of softmax regression by picturing the parameters learned for each class.\n",
    "\n",
    "We will use two datasets containing images - MNIST and CIFAR10. They both contain samples belonging to 10 classes. Therefore for each daatset we will find a set of parameters for each of the 10 classes. Then we will dispay the paremetrs as images. We can think about them as prototype vectors sensitive to elements of a given class."
   ]
  },
  {
   "cell_type": "code",
   "execution_count": 13,
   "metadata": {
    "collapsed": false
   },
   "outputs": [],
   "source": [
    "from fuel.datasets.mnist import MNIST\n",
    "from common.plotting import plot_mat\n",
    "\n",
    "mnist_train = MNIST((\"train\",), )\n",
    "\n",
    "mnist_train_X = np.hstack((\n",
    "    np.ones((mnist_train.num_examples,1 ), dtype=np.single),\n",
    "    (mnist_train.data_sources[0].reshape(mnist_train.num_examples, -1) / 255.0).astype(np.single)\n",
    "    )).T\n",
    "mnist_train_Y = mnist_train.data_sources[1].ravel()\n",
    "\n",
    "mnist_test = MNIST((\"test\",))\n",
    "\n",
    "mnist_test_X = np.hstack((\n",
    "    np.ones((mnist_test.num_examples,1 ), dtype=np.single),\n",
    "    (mnist_test.data_sources[0].reshape(mnist_test.num_examples, -1) / 255.0).astype(np.single)\n",
    "    )).T\n",
    "mnist_test_Y = mnist_test.data_sources[1].ravel()"
   ]
  },
  {
   "cell_type": "code",
   "execution_count": 81,
   "metadata": {
    "collapsed": false
   },
   "outputs": [],
   "source": [
    "def softmax(x, y, clasNum, maxiter):\n",
    "    theta = np.repeat(np.ones(785)/785,10).reshape(-1, 10)\n",
    "    a = theta.T.dot(x)\n",
    "    return a"
   ]
  },
  {
   "cell_type": "code",
   "execution_count": 83,
   "metadata": {
    "collapsed": false
   },
   "outputs": [
    {
     "name": "stdout",
     "output_type": "stream",
     "text": [
      "(10, 60000)\n",
      "(785, 60000)\n"
     ]
    },
    {
     "data": {
      "text/plain": [
       "array([[ 0.13877857,  0.15661297,  0.0984039 , ...,  0.11183714,\n",
       "         0.10332459,  0.10578244],\n",
       "       [ 0.13877857,  0.15661297,  0.0984039 , ...,  0.11183714,\n",
       "         0.10332459,  0.10578244],\n",
       "       [ 0.13877857,  0.15661297,  0.0984039 , ...,  0.11183714,\n",
       "         0.10332459,  0.10578244],\n",
       "       ..., \n",
       "       [ 0.13877857,  0.15661297,  0.0984039 , ...,  0.11183714,\n",
       "         0.10332459,  0.10578244],\n",
       "       [ 0.13877857,  0.15661297,  0.0984039 , ...,  0.11183714,\n",
       "         0.10332459,  0.10578244],\n",
       "       [ 0.13877857,  0.15661297,  0.0984039 , ...,  0.11183714,\n",
       "         0.10332459,  0.10578244]])"
      ]
     },
     "execution_count": 83,
     "metadata": {},
     "output_type": "execute_result"
    }
   ],
   "source": [
    "# note: we want to keep the number of iterations low, afterwards we may \n",
    "# start to overfit. This will make more sense around 6th lecture\n",
    "ThetaMnist = softmax(mnist_train_X, 10, 25, mnist_train_Y)\n",
    "print ThetaMnist.shape\n",
    "print mnist_train_X.shape\n",
    "ThetaMnist"
   ]
  },
  {
   "cell_type": "code",
   "execution_count": 84,
   "metadata": {
    "collapsed": false
   },
   "outputs": [
    {
     "ename": "ValueError",
     "evalue": "shapes (60000,10) and (785,60000) not aligned: 10 (dim 1) != 785 (dim 0)",
     "output_type": "error",
     "traceback": [
      "\u001b[1;31m---------------------------------------------------------------------------\u001b[0m",
      "\u001b[1;31mValueError\u001b[0m                                Traceback (most recent call last)",
      "\u001b[1;32m<ipython-input-84-06434e2cdb23>\u001b[0m in \u001b[0;36m<module>\u001b[1;34m()\u001b[0m\n\u001b[1;32m----> 1\u001b[1;33m \u001b[0mtrY\u001b[0m \u001b[1;33m=\u001b[0m \u001b[0mThetaMnist\u001b[0m\u001b[1;33m.\u001b[0m\u001b[0mT\u001b[0m\u001b[1;33m.\u001b[0m\u001b[0mdot\u001b[0m\u001b[1;33m(\u001b[0m\u001b[0mmnist_train_X\u001b[0m\u001b[1;33m)\u001b[0m\u001b[1;33m.\u001b[0m\u001b[0margmax\u001b[0m\u001b[1;33m(\u001b[0m\u001b[1;36m0\u001b[0m\u001b[1;33m)\u001b[0m\u001b[1;33m\u001b[0m\u001b[0m\n\u001b[0m\u001b[0;32m      2\u001b[0m \u001b[1;32mprint\u001b[0m \u001b[0mtrY\u001b[0m\u001b[1;33m.\u001b[0m\u001b[0mshape\u001b[0m\u001b[1;33m\u001b[0m\u001b[0m\n\u001b[0;32m      3\u001b[0m \u001b[1;32mprint\u001b[0m \u001b[1;34m\"Train error rate: %f\"\u001b[0m \u001b[1;33m%\u001b[0m \u001b[1;33m(\u001b[0m\u001b[1;33m(\u001b[0m\u001b[0mtrY\u001b[0m \u001b[1;33m!=\u001b[0m \u001b[0mmnist_train_Y\u001b[0m\u001b[1;33m)\u001b[0m\u001b[1;33m.\u001b[0m\u001b[0mmean\u001b[0m\u001b[1;33m(\u001b[0m\u001b[1;33m)\u001b[0m\u001b[1;33m,\u001b[0m \u001b[1;33m)\u001b[0m\u001b[1;33m\u001b[0m\u001b[0m\n\u001b[0;32m      4\u001b[0m \u001b[1;33m\u001b[0m\u001b[0m\n\u001b[0;32m      5\u001b[0m \u001b[0mteY\u001b[0m \u001b[1;33m=\u001b[0m \u001b[0mThetaMnist\u001b[0m\u001b[1;33m.\u001b[0m\u001b[0mT\u001b[0m\u001b[1;33m.\u001b[0m\u001b[0mdot\u001b[0m\u001b[1;33m(\u001b[0m\u001b[0mmnist_test_X\u001b[0m\u001b[1;33m)\u001b[0m\u001b[1;33m.\u001b[0m\u001b[0margmax\u001b[0m\u001b[1;33m(\u001b[0m\u001b[1;36m0\u001b[0m\u001b[1;33m)\u001b[0m\u001b[1;33m\u001b[0m\u001b[0m\n",
      "\u001b[1;31mValueError\u001b[0m: shapes (60000,10) and (785,60000) not aligned: 10 (dim 1) != 785 (dim 0)"
     ]
    }
   ],
   "source": [
    "trY = ThetaMnist.T.dot(mnist_train_X).argmax(0)\n",
    "print trY.shape\n",
    "print \"Train error rate: %f\" % ((trY != mnist_train_Y).mean(), )\n",
    "\n",
    "teY = ThetaMnist.T.dot(mnist_test_X).argmax(0)\n",
    "print \"Test error rate: %f\" % ((teY != mnist_test_Y).mean(), )"
   ]
  },
  {
   "cell_type": "code",
   "execution_count": 25,
   "metadata": {
    "collapsed": false
   },
   "outputs": [
    {
     "data": {
      "image/png": "[encoded data removed]",
      "text/plain": [
       "<matplotlib.figure.Figure at 0x34827128>"
      ]
     },
     "metadata": {},
     "output_type": "display_data"
    }
   ],
   "source": [
    "#We skip the first row of parameters because they represent the \n",
    "#constant term. The remaming ones are rehsaped as grayscale images\n",
    "plot_mat(ThetaMnist[1:,:].reshape(28,28,1,-1).transpose(3,2,0,1), cmap='gray')"
   ]
  },
  {
   "cell_type": "code",
   "execution_count": 26,
   "metadata": {
    "collapsed": false
   },
   "outputs": [],
   "source": [
    "from fuel.datasets.cifar10 import CIFAR10\n",
    "from common.plotting import plot_mat\n",
    "\n",
    "cifar_train = CIFAR10((\"train\",), )\n",
    "\n",
    "cifar_train_X = np.hstack((\n",
    "    np.ones((cifar_train.num_examples,1 ), dtype=np.single),\n",
    "    (cifar_train.data_sources[0].reshape(cifar_train.num_examples, -1) / 255.0).astype(np.single)\n",
    "    )).T\n",
    "cifar_train_Y = cifar_train.data_sources[1].ravel()\n",
    "\n",
    "cifar_test = CIFAR10((\"test\",))\n",
    "\n",
    "cifar_test_X = np.hstack((\n",
    "    np.ones((cifar_test.num_examples,1 ), dtype=np.single),\n",
    "    (cifar_test.data_sources[0].reshape(cifar_test.num_examples, -1) / 255.0).astype(np.single)\n",
    "    )).T\n",
    "cifar_test_Y = cifar_test.data_sources[1].ravel()"
   ]
  },
  {
   "cell_type": "code",
   "execution_count": 27,
   "metadata": {
    "collapsed": false
   },
   "outputs": [],
   "source": [
    "import logreg\n",
    "reload(logreg)\n",
    "from logreg import softmax\n",
    "\n",
    "# note: we want to keep the number of iterations low, afterwards we may \n",
    "# start to overfit. This will make more sense around 6th lecture\n",
    "ThetaCifar = softmax(cifar_train_X, cifar_train_Y, 10, maxiter=50)"
   ]
  },
  {
   "cell_type": "code",
   "execution_count": 28,
   "metadata": {
    "collapsed": false
   },
   "outputs": [
    {
     "name": "stdout",
     "output_type": "stream",
     "text": [
      "Train error rate: 0.595660\n",
      "Test error rate: 0.604300\n"
     ]
    }
   ],
   "source": [
    "trY = ThetaCifar.T.dot(cifar_train_X).argmax(0)\n",
    "print \"Train error rate: %f\" % ((trY != cifar_train_Y).mean(), )\n",
    "\n",
    "teY = ThetaCifar.T.dot(cifar_test_X).argmax(0)\n",
    "print \"Test error rate: %f\" % ((teY != cifar_test_Y).mean(), )"
   ]
  },
  {
   "cell_type": "code",
   "execution_count": 30,
   "metadata": {
    "collapsed": false
   },
   "outputs": [
    {
     "data": {
      "image/png": "[encoded data removed]",
      "text/plain": [
       "<matplotlib.figure.Figure at 0x35330da0>"
      ]
     },
     "metadata": {},
     "output_type": "display_data"
    }
   ],
   "source": [
    "# We skip the first row of parameters because they represent the \n",
    "# constant term. The remaming ones are rehsaped as grayscale images\n",
    "#\n",
    "# The 10 classes are:\n",
    "# ------------------------------------------------\n",
    "# | airplane | automobile | bird  | cat  | deer  |\n",
    "# |----------|------------|-------|------|-------|\n",
    "# |   dog    |     frog   | horse | ship | truck |\n",
    "# ------------------------------------------------\n",
    "#\n",
    "# Again, the learned parameters ressebmle the average image in each class.\n",
    "#\n",
    "plot_mat(ThetaCifar[1:,:].reshape(3,32,32,-1).transpose(3,0,1,2))"
   ]
  },
  {
   "cell_type": "markdown",
   "metadata": {},
   "source": []
  },
  {
   "cell_type": "markdown",
   "metadata": {},
   "source": [
    "## Further reading\n",
    "1. Andrew Ng \"CS229 Lecture notes\", http://cs229.stanford.edu/notes/cs229-notes1.pdf\n",
    "2. Leon Bottou \"Stochastic Gradient Descent Tricks\", http://leon.bottou.org/papers/bottou-tricks-2012"
   ]
  }
 ],
 "metadata": {
  "kernelspec": {
   "display_name": "Python 2",
   "language": "python",
   "name": "python2"
  },
  "language_info": {
   "codemirror_mode": {
    "name": "ipython",
    "version": 2
   },
   "file_extension": ".py",
   "mimetype": "text/x-python",
   "name": "python",
   "nbconvert_exporter": "python",
   "pygments_lexer": "ipython2",
   "version": "2.7.10"
  }
 },
 "nbformat": 4,
 "nbformat_minor": 0
}
