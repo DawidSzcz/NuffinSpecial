{
 "cells": [
  {
   "cell_type": "code",
   "execution_count": 1,
   "metadata": {
    "collapsed": false
   },
   "outputs": [
    {
     "name": "stdout",
     "output_type": "stream",
     "text": [
      "Populating the interactive namespace from numpy and matplotlib\n"
     ]
    }
   ],
   "source": [
    "%pylab inline"
   ]
  },
  {
   "cell_type": "code",
   "execution_count": 2,
   "metadata": {
    "collapsed": true
   },
   "outputs": [],
   "source": [
    "import os\n",
    "import sys"
   ]
  },
  {
   "cell_type": "code",
   "execution_count": 3,
   "metadata": {
    "collapsed": false
   },
   "outputs": [],
   "source": [
    "# This is a small patch for pydot on windows, so that we can plot from it.....\n",
    "if sys.platform == 'win32':\n",
    "    print \"Monkey-patching pydot\"\n",
    "    import pydot\n",
    "\n",
    "    def force_find_graphviz(graphviz_root):\n",
    "       binpath = os.path.join(graphviz_root, 'bin')\n",
    "       programs = 'dot twopi neato circo fdp sfdp'\n",
    "       def helper():\n",
    "         for prg in programs.split():\n",
    "           if os.path.exists(os.path.join(binpath, prg)):\n",
    "             yield ((prg, os.path.join(binpath, prg)))\n",
    "           elif os.path.exists(os.path.join(binpath, prg+'.exe')):\n",
    "             yield ((prg, os.path.join(binpath, prg+'.exe')))\n",
    "       progdict = dict(helper())\n",
    "       return lambda: progdict\n",
    "\n",
    "    pydot.find_graphviz = force_find_graphviz('c:/Program Files (x86)/Graphviz2.34/')"
   ]
  },
  {
   "cell_type": "code",
   "execution_count": 4,
   "metadata": {
    "collapsed": false
   },
   "outputs": [],
   "source": [
    "import theano\n",
    "import theano.tensor as TT\n",
    "import theano.printing as TP"
   ]
  },
  {
   "cell_type": "code",
   "execution_count": 5,
   "metadata": {
    "collapsed": true
   },
   "outputs": [],
   "source": [
    "#shortcut for graph printing\n",
    "from IPython.display import SVG\n",
    "def svgdotprint(g):\n",
    "    return SVG(theano.printing.pydotprint(g, return_image=True, format='svg'))"
   ]
  },
  {
   "cell_type": "code",
   "execution_count": 6,
   "metadata": {
    "collapsed": true
   },
   "outputs": [],
   "source": [
    "#Scalar operations\n",
    "#\n",
    "# Here we create \"Theano Variables\" - nodes in a computation graph\n",
    "#\n",
    "x = TT.scalar('X')\n",
    "y = TT.scalar('y')\n",
    "z = x * y"
   ]
  },
  {
   "cell_type": "code",
   "execution_count": 7,
   "metadata": {
    "collapsed": false
   },
   "outputs": [
    {
     "data": {
      "image/svg+xml": [
       "<svg height=\"220pt\" viewBox=\"0.00 0.00 508.00 220.00\" width=\"508pt\" xmlns=\"http://www.w3.org/2000/svg\" xmlns:xlink=\"http://www.w3.org/1999/xlink\">\n",
       "<g class=\"graph\" id=\"graph0\" transform=\"scale(1 1) rotate(0) translate(4 216)\">\n",
       "<title>G</title>\n",
       "<polygon fill=\"white\" points=\"-4,4 -4,-216 504,-216 504,4 -4,4\" stroke=\"none\"/>\n",
       "<!-- Elemwise{mul,no_inplace} -->\n",
       "<g class=\"node\" id=\"node1\"><title>Elemwise{mul,no_inplace}</title>\n",
       "<ellipse cx=\"228\" cy=\"-106\" fill=\"#ffaabb\" rx=\"109.261\" ry=\"18\" stroke=\"black\"/>\n",
       "<text font-family=\"Times,serif\" font-size=\"14.00\" text-anchor=\"middle\" x=\"228\" y=\"-102.3\">Elemwise{mul,no_inplace}</text>\n",
       "</g>\n",
       "<!-- TensorType(float64, scalar) -->\n",
       "<g class=\"node\" id=\"node4\"><title>TensorType(float64, scalar)</title>\n",
       "<polygon fill=\"blue\" points=\"311.5,-36 144.5,-36 144.5,-0 311.5,-0 311.5,-36\" stroke=\"black\"/>\n",
       "<text font-family=\"Times,serif\" font-size=\"14.00\" text-anchor=\"middle\" x=\"228\" y=\"-14.3\">TensorType(float64, scalar)</text>\n",
       "</g>\n",
       "<!-- Elemwise{mul,no_inplace}&#45;&gt;TensorType(float64, scalar) -->\n",
       "<g class=\"edge\" id=\"edge3\"><title>Elemwise{mul,no_inplace}-&gt;TensorType(float64, scalar)</title>\n",
       "<path d=\"M228,-87.5966C228,-75.7459 228,-59.8169 228,-46.2917\" fill=\"none\" stroke=\"black\"/>\n",
       "<polygon fill=\"black\" points=\"231.5,-46.084 228,-36.084 224.5,-46.084 231.5,-46.084\" stroke=\"black\"/>\n",
       "<text font-family=\"Times,serif\" font-size=\"14.00\" text-anchor=\"middle\" x=\"304\" y=\"-58.3\">TensorType(float64, scalar)</text>\n",
       "</g>\n",
       "<!-- name=X TensorType(float64, scalar) -->\n",
       "<g class=\"node\" id=\"node2\"><title>name=X TensorType(float64, scalar)</title>\n",
       "<polygon fill=\"green\" points=\"220,-212 0,-212 0,-176 220,-176 220,-212\" stroke=\"black\"/>\n",
       "<text font-family=\"Times,serif\" font-size=\"14.00\" text-anchor=\"middle\" x=\"110\" y=\"-190.3\">name=X TensorType(float64, scalar)</text>\n",
       "</g>\n",
       "<!-- name=X TensorType(float64, scalar)&#45;&gt;Elemwise{mul,no_inplace} -->\n",
       "<g class=\"edge\" id=\"edge1\"><title>name=X TensorType(float64, scalar)-&gt;Elemwise{mul,no_inplace}</title>\n",
       "<path d=\"M125.3,-175.632C135.125,-165.107 148.529,-151.856 162,-142 168.846,-136.991 176.503,-132.257 184.108,-127.984\" fill=\"none\" stroke=\"black\"/>\n",
       "<polygon fill=\"black\" points=\"185.833,-131.03 192.961,-123.191 182.501,-124.874 185.833,-131.03\" stroke=\"black\"/>\n",
       "<text font-family=\"Times,serif\" font-size=\"14.00\" text-anchor=\"middle\" x=\"243.5\" y=\"-146.3\">0 TensorType(float64, scalar)</text>\n",
       "</g>\n",
       "<!-- name=y TensorType(float64, scalar) -->\n",
       "<g class=\"node\" id=\"node3\"><title>name=y TensorType(float64, scalar)</title>\n",
       "<polygon fill=\"green\" points=\"455.25,-212 238.75,-212 238.75,-176 455.25,-176 455.25,-212\" stroke=\"black\"/>\n",
       "<text font-family=\"Times,serif\" font-size=\"14.00\" text-anchor=\"middle\" x=\"347\" y=\"-190.3\">name=y TensorType(float64, scalar)</text>\n",
       "</g>\n",
       "<!-- name=y TensorType(float64, scalar)&#45;&gt;Elemwise{mul,no_inplace} -->\n",
       "<g class=\"edge\" id=\"edge2\"><title>name=y TensorType(float64, scalar)-&gt;Elemwise{mul,no_inplace}</title>\n",
       "<path d=\"M343.326,-175.811C340.164,-164.818 334.552,-150.986 325,-142 317.616,-135.053 308.754,-129.468 299.427,-124.98\" fill=\"none\" stroke=\"black\"/>\n",
       "<polygon fill=\"black\" points=\"300.548,-121.65 289.983,-120.849 297.742,-128.064 300.548,-121.65\" stroke=\"black\"/>\n",
       "<text font-family=\"Times,serif\" font-size=\"14.00\" text-anchor=\"middle\" x=\"418.5\" y=\"-146.3\">1 TensorType(float64, scalar)</text>\n",
       "</g>\n",
       "</g>\n",
       "</svg>"
      ],
      "text/plain": [
       "<IPython.core.display.SVG object>"
      ]
     },
     "execution_count": 7,
     "metadata": {},
     "output_type": "execute_result"
    }
   ],
   "source": [
    "#\n",
    "# We haven't computed anything yet. z is just a node in the graph\n",
    "#\n",
    "svgdotprint(z)"
   ]
  },
  {
   "cell_type": "code",
   "execution_count": 8,
   "metadata": {
    "collapsed": false
   },
   "outputs": [
    {
     "data": {
      "image/svg+xml": [
       "<svg height=\"396pt\" viewBox=\"0.00 0.00 645.00 396.00\" width=\"645pt\" xmlns=\"http://www.w3.org/2000/svg\" xmlns:xlink=\"http://www.w3.org/1999/xlink\">\n",
       "<g class=\"graph\" id=\"graph0\" transform=\"scale(1 1) rotate(0) translate(4 392)\">\n",
       "<title>G</title>\n",
       "<polygon fill=\"white\" points=\"-4,4 -4,-392 641,-392 641,4 -4,4\" stroke=\"none\"/>\n",
       "<!-- Elemwise{mul,no_inplace} -->\n",
       "<g class=\"node\" id=\"node1\"><title>Elemwise{mul,no_inplace}</title>\n",
       "<ellipse cx=\"270\" cy=\"-282\" fill=\"#ffaabb\" rx=\"109.261\" ry=\"18\" stroke=\"black\"/>\n",
       "<text font-family=\"Times,serif\" font-size=\"14.00\" text-anchor=\"middle\" x=\"270\" y=\"-278.3\">Elemwise{mul,no_inplace}</text>\n",
       "</g>\n",
       "<!-- Elemwise{second,no_inplace} -->\n",
       "<g class=\"node\" id=\"node4\"><title>Elemwise{second,no_inplace}</title>\n",
       "<ellipse cx=\"294\" cy=\"-194\" fill=\"#ffaabb\" rx=\"120.359\" ry=\"18\" stroke=\"black\"/>\n",
       "<text font-family=\"Times,serif\" font-size=\"14.00\" text-anchor=\"middle\" x=\"294\" y=\"-190.3\">Elemwise{second,no_inplace}</text>\n",
       "</g>\n",
       "<!-- Elemwise{mul,no_inplace}&#45;&gt;Elemwise{second,no_inplace} -->\n",
       "<g class=\"edge\" id=\"edge3\"><title>Elemwise{mul,no_inplace}-&gt;Elemwise{second,no_inplace}</title>\n",
       "<path d=\"M274.742,-264.009C278.073,-252.073 282.599,-235.853 286.427,-222.138\" fill=\"none\" stroke=\"black\"/>\n",
       "<polygon fill=\"black\" points=\"289.869,-222.823 289.186,-212.25 283.127,-220.941 289.869,-222.823\" stroke=\"black\"/>\n",
       "<text font-family=\"Times,serif\" font-size=\"14.00\" text-anchor=\"middle\" x=\"366.5\" y=\"-234.3\">0 TensorType(float64, scalar)</text>\n",
       "</g>\n",
       "<!-- name=X TensorType(float64, scalar) -->\n",
       "<g class=\"node\" id=\"node2\"><title>name=X TensorType(float64, scalar)</title>\n",
       "<polygon fill=\"green\" points=\"455,-388 235,-388 235,-352 455,-352 455,-388\" stroke=\"black\"/>\n",
       "<text font-family=\"Times,serif\" font-size=\"14.00\" text-anchor=\"middle\" x=\"345\" y=\"-366.3\">name=X TensorType(float64, scalar)</text>\n",
       "</g>\n",
       "<!-- name=X TensorType(float64, scalar)&#45;&gt;Elemwise{mul,no_inplace} -->\n",
       "<g class=\"edge\" id=\"edge1\"><title>name=X TensorType(float64, scalar)-&gt;Elemwise{mul,no_inplace}</title>\n",
       "<path d=\"M337.819,-351.773C332.926,-341.301 325.755,-328.055 317,-318 313.326,-313.78 309.061,-309.758 304.628,-306.043\" fill=\"none\" stroke=\"black\"/>\n",
       "<polygon fill=\"black\" points=\"306.589,-303.133 296.561,-299.713 302.268,-308.639 306.589,-303.133\" stroke=\"black\"/>\n",
       "<text font-family=\"Times,serif\" font-size=\"14.00\" text-anchor=\"middle\" x=\"410.5\" y=\"-322.3\">0 TensorType(float64, scalar)</text>\n",
       "</g>\n",
       "<!-- name=y TensorType(float64, scalar) -->\n",
       "<g class=\"node\" id=\"node3\"><title>name=y TensorType(float64, scalar)</title>\n",
       "<polygon fill=\"green\" points=\"216.25,-388 -0.25,-388 -0.25,-352 216.25,-352 216.25,-388\" stroke=\"black\"/>\n",
       "<text font-family=\"Times,serif\" font-size=\"14.00\" text-anchor=\"middle\" x=\"108\" y=\"-366.3\">name=y TensorType(float64, scalar)</text>\n",
       "</g>\n",
       "<!-- name=y TensorType(float64, scalar)&#45;&gt;Elemwise{mul,no_inplace} -->\n",
       "<g class=\"edge\" id=\"edge2\"><title>name=y TensorType(float64, scalar)-&gt;Elemwise{mul,no_inplace}</title>\n",
       "<path d=\"M118.449,-351.547C125.936,-340.443 136.976,-326.586 150,-318 162.145,-309.994 176.157,-303.78 190.226,-298.97\" fill=\"none\" stroke=\"black\"/>\n",
       "<polygon fill=\"black\" points=\"191.494,-302.239 199.953,-295.859 189.362,-295.572 191.494,-302.239\" stroke=\"black\"/>\n",
       "<text font-family=\"Times,serif\" font-size=\"14.00\" text-anchor=\"middle\" x=\"231.5\" y=\"-322.3\">1 TensorType(float64, scalar)</text>\n",
       "</g>\n",
       "<!-- Elemwise{mul} -->\n",
       "<g class=\"node\" id=\"node6\"><title>Elemwise{mul}</title>\n",
       "<ellipse cx=\"162\" cy=\"-106\" fill=\"#ffaabb\" rx=\"68.3417\" ry=\"18\" stroke=\"black\"/>\n",
       "<text font-family=\"Times,serif\" font-size=\"14.00\" text-anchor=\"middle\" x=\"162\" y=\"-102.3\">Elemwise{mul}</text>\n",
       "</g>\n",
       "<!-- name=y TensorType(float64, scalar)&#45;&gt;Elemwise{mul} -->\n",
       "<g class=\"edge\" id=\"edge6\"><title>name=y TensorType(float64, scalar)-&gt;Elemwise{mul}</title>\n",
       "<path d=\"M106.742,-351.652C105.238,-325.118 103.945,-273.006 113,-230 120.326,-195.206 136.689,-157.551 148.494,-133.197\" fill=\"none\" stroke=\"black\"/>\n",
       "<polygon fill=\"black\" points=\"151.781,-134.445 153.077,-123.93 145.506,-131.341 151.781,-134.445\" stroke=\"black\"/>\n",
       "<text font-family=\"Times,serif\" font-size=\"14.00\" text-anchor=\"middle\" x=\"194.5\" y=\"-234.3\">1 TensorType(float64, scalar)</text>\n",
       "</g>\n",
       "<!-- Elemwise{second,no_inplace}&#45;&gt;Elemwise{mul} -->\n",
       "<g class=\"edge\" id=\"edge5\"><title>Elemwise{second,no_inplace}-&gt;Elemwise{mul}</title>\n",
       "<path d=\"M268.236,-176.214C247.305,-162.578 217.645,-143.253 194.981,-128.488\" fill=\"none\" stroke=\"black\"/>\n",
       "<polygon fill=\"black\" points=\"196.652,-125.399 186.362,-122.872 192.83,-131.264 196.652,-125.399\" stroke=\"black\"/>\n",
       "<text font-family=\"Times,serif\" font-size=\"14.00\" text-anchor=\"middle\" x=\"321.5\" y=\"-146.3\">0 TensorType(float64, scalar)</text>\n",
       "</g>\n",
       "<!-- val=1.0 TensorType(float64, scalar) -->\n",
       "<g class=\"node\" id=\"node5\"><title>val=1.0 TensorType(float64, scalar)</title>\n",
       "<polygon fill=\"green\" points=\"611.5,-300 398.5,-300 398.5,-264 611.5,-264 611.5,-300\" stroke=\"black\"/>\n",
       "<text font-family=\"Times,serif\" font-size=\"14.00\" text-anchor=\"middle\" x=\"505\" y=\"-278.3\">val=1.0 TensorType(float64, scalar)</text>\n",
       "</g>\n",
       "<!-- val=1.0 TensorType(float64, scalar)&#45;&gt;Elemwise{second,no_inplace} -->\n",
       "<g class=\"edge\" id=\"edge4\"><title>val=1.0 TensorType(float64, scalar)-&gt;Elemwise{second,no_inplace}</title>\n",
       "<path d=\"M491.499,-263.789C481.719,-252.495 467.531,-238.326 452,-230 434.125,-220.418 413.768,-213.457 393.749,-208.4\" fill=\"none\" stroke=\"black\"/>\n",
       "<polygon fill=\"black\" points=\"394.5,-204.981 383.961,-206.068 392.878,-211.791 394.5,-204.981\" stroke=\"black\"/>\n",
       "<text font-family=\"Times,serif\" font-size=\"14.00\" text-anchor=\"middle\" x=\"555.5\" y=\"-234.3\">1 TensorType(float64, scalar)</text>\n",
       "</g>\n",
       "<!-- TensorType(float64, scalar) id=5 -->\n",
       "<g class=\"node\" id=\"node7\"><title>TensorType(float64, scalar) id=5</title>\n",
       "<polygon fill=\"blue\" points=\"260.25,-36 63.75,-36 63.75,-0 260.25,-0 260.25,-36\" stroke=\"black\"/>\n",
       "<text font-family=\"Times,serif\" font-size=\"14.00\" text-anchor=\"middle\" x=\"162\" y=\"-14.3\">TensorType(float64, scalar) id=5</text>\n",
       "</g>\n",
       "<!-- Elemwise{mul}&#45;&gt;TensorType(float64, scalar) id=5 -->\n",
       "<g class=\"edge\" id=\"edge7\"><title>Elemwise{mul}-&gt;TensorType(float64, scalar) id=5</title>\n",
       "<path d=\"M162,-87.5966C162,-75.7459 162,-59.8169 162,-46.2917\" fill=\"none\" stroke=\"black\"/>\n",
       "<polygon fill=\"black\" points=\"165.5,-46.084 162,-36.084 158.5,-46.084 165.5,-46.084\" stroke=\"black\"/>\n",
       "<text font-family=\"Times,serif\" font-size=\"14.00\" text-anchor=\"middle\" x=\"238\" y=\"-58.3\">TensorType(float64, scalar)</text>\n",
       "</g>\n",
       "</g>\n",
       "</svg>"
      ],
      "text/plain": [
       "<IPython.core.display.SVG object>"
      ]
     },
     "execution_count": 8,
     "metadata": {},
     "output_type": "execute_result"
    }
   ],
   "source": [
    "#\n",
    "# theano.tensor.grad knows how to compute derivatives!\n",
    "#\n",
    "# NB: the graph below contains many computations that we don't need. The will get removed during optimization\n",
    "svgdotprint(TT.grad(z,[x]))"
   ]
  },
  {
   "cell_type": "code",
   "execution_count": 9,
   "metadata": {
    "collapsed": false
   },
   "outputs": [
    {
     "name": "stdout",
     "output_type": "stream",
     "text": [
      "[array(2.0), array(2.0)]\n",
      "[array(4.0), array(2.0)]\n"
     ]
    }
   ],
   "source": [
    "#\n",
    "# theano.function takes a list of free variables in a computation graph, a list of outputs \n",
    "# and compiles a function which computes the values in the graph\n",
    "#\n",
    "fun = theano.function([x,y], [z] + TT.grad(z,[x]))\n",
    "\n",
    "print fun(1,2)\n",
    "print fun(2,2)"
   ]
  },
  {
   "cell_type": "code",
   "execution_count": 25,
   "metadata": {
    "collapsed": false
   },
   "outputs": [
    {
     "data": {
      "image/svg+xml": [
       "<svg height=\"206pt\" viewBox=\"0.00 0.00 479.00 206.00\" width=\"479pt\" xmlns=\"http://www.w3.org/2000/svg\" xmlns:xlink=\"http://www.w3.org/1999/xlink\">\n",
       "<g class=\"graph\" id=\"graph0\" transform=\"scale(1 1) rotate(0) translate(4 202)\">\n",
       "<title>G</title>\n",
       "<polygon fill=\"white\" points=\"-4,4 -4,-202 475,-202 475,4 -4,4\" stroke=\"white\"/>\n",
       "<!-- 327978512 -->\n",
       "<g class=\"node\" id=\"node1\"><title>327978512</title>\n",
       "<ellipse cx=\"112\" cy=\"-92\" fill=\"none\" rx=\"63.0666\" ry=\"18\" stroke=\"black\"/>\n",
       "<text font-family=\"Times New Roman,serif\" font-size=\"14.00\" text-anchor=\"middle\" x=\"112\" y=\"-88.3\">DeepCopyOp</text>\n",
       "</g>\n",
       "<!-- 327978120 -->\n",
       "<g class=\"node\" id=\"node3\"><title>327978120</title>\n",
       "<polygon fill=\"blue\" points=\"224.25,-36 -0.25,-36 -0.25,-0 224.25,-0 224.25,-36\" stroke=\"black\"/>\n",
       "<text font-family=\"Times New Roman,serif\" font-size=\"14.00\" text-anchor=\"middle\" x=\"112\" y=\"-14.3\">name=y TensorType(float32, scalar)</text>\n",
       "</g>\n",
       "<!-- 327978512&#45;&gt;327978120 -->\n",
       "<g class=\"edge\" id=\"edge2\"><title>327978512-&gt;327978120</title>\n",
       "<path d=\"M112,-73.937C112,-65.8072 112,-55.8761 112,-46.7047\" fill=\"none\" stroke=\"black\"/>\n",
       "<polygon fill=\"black\" points=\"115.5,-46.4406 112,-36.4407 108.5,-46.4407 115.5,-46.4406\" stroke=\"black\"/>\n",
       "</g>\n",
       "<!-- 326530608 -->\n",
       "<g class=\"node\" id=\"node2\"><title>326530608</title>\n",
       "<polygon fill=\"green\" points=\"224.25,-198 -0.25,-198 -0.25,-162 224.25,-162 224.25,-198\" stroke=\"black\"/>\n",
       "<text font-family=\"Times New Roman,serif\" font-size=\"14.00\" text-anchor=\"middle\" x=\"112\" y=\"-176.3\">name=y TensorType(float32, scalar)</text>\n",
       "</g>\n",
       "<!-- 326530608&#45;&gt;327978512 -->\n",
       "<g class=\"edge\" id=\"edge1\"><title>326530608-&gt;327978512</title>\n",
       "<path d=\"M112,-161.597C112,-149.746 112,-133.817 112,-120.292\" fill=\"none\" stroke=\"black\"/>\n",
       "<polygon fill=\"black\" points=\"115.5,-120.084 112,-110.084 108.5,-120.084 115.5,-120.084\" stroke=\"black\"/>\n",
       "</g>\n",
       "<!-- 327718672 -->\n",
       "<g class=\"node\" id=\"node4\"><title>327718672</title>\n",
       "<ellipse cx=\"344\" cy=\"-92\" fill=\"#ffaabb\" rx=\"113.61\" ry=\"18\" stroke=\"black\"/>\n",
       "<text font-family=\"Times New Roman,serif\" font-size=\"14.00\" text-anchor=\"middle\" x=\"344\" y=\"-88.3\">Elemwise{mul,no_inplace}</text>\n",
       "</g>\n",
       "<!-- 326530608&#45;&gt;327718672 -->\n",
       "<g class=\"edge\" id=\"edge4\"><title>326530608-&gt;327718672</title>\n",
       "<path d=\"M158.113,-161.906C196.69,-147.606 251.708,-127.212 291.876,-112.322\" fill=\"none\" stroke=\"black\"/>\n",
       "<polygon fill=\"black\" points=\"293.332,-115.515 301.492,-108.757 290.899,-108.951 293.332,-115.515\" stroke=\"black\"/>\n",
       "<text font-family=\"Times New Roman,serif\" font-size=\"14.00\" text-anchor=\"middle\" x=\"253\" y=\"-132.3\">1</text>\n",
       "</g>\n",
       "<!-- 327720576 -->\n",
       "<g class=\"node\" id=\"node6\"><title>327720576</title>\n",
       "<polygon fill=\"blue\" points=\"431.25,-36 256.75,-36 256.75,-0 431.25,-0 431.25,-36\" stroke=\"black\"/>\n",
       "<text font-family=\"Times New Roman,serif\" font-size=\"14.00\" text-anchor=\"middle\" x=\"344\" y=\"-14.3\">TensorType(float32, scalar)</text>\n",
       "</g>\n",
       "<!-- 327718672&#45;&gt;327720576 -->\n",
       "<g class=\"edge\" id=\"edge5\"><title>327718672-&gt;327720576</title>\n",
       "<path d=\"M344,-73.937C344,-65.8072 344,-55.8761 344,-46.7047\" fill=\"none\" stroke=\"black\"/>\n",
       "<polygon fill=\"black\" points=\"347.5,-46.4406 344,-36.4407 340.5,-46.4407 347.5,-46.4406\" stroke=\"black\"/>\n",
       "</g>\n",
       "<!-- 326530888 -->\n",
       "<g class=\"node\" id=\"node5\"><title>326530888</title>\n",
       "<polygon fill=\"green\" points=\"471,-198 243,-198 243,-162 471,-162 471,-198\" stroke=\"black\"/>\n",
       "<text font-family=\"Times New Roman,serif\" font-size=\"14.00\" text-anchor=\"middle\" x=\"357\" y=\"-176.3\">name=X TensorType(float32, scalar)</text>\n",
       "</g>\n",
       "<!-- 326530888&#45;&gt;327718672 -->\n",
       "<g class=\"edge\" id=\"edge3\"><title>326530888-&gt;327718672</title>\n",
       "<path d=\"M354.369,-161.597C352.578,-149.746 350.17,-133.817 348.125,-120.292\" fill=\"none\" stroke=\"black\"/>\n",
       "<polygon fill=\"black\" points=\"351.538,-119.449 346.582,-110.084 344.617,-120.495 351.538,-119.449\" stroke=\"black\"/>\n",
       "<text font-family=\"Times New Roman,serif\" font-size=\"14.00\" text-anchor=\"middle\" x=\"356\" y=\"-132.3\">0</text>\n",
       "</g>\n",
       "</g>\n",
       "</svg>"
      ],
      "text/plain": [
       "<IPython.core.display.SVG object>"
      ]
     },
     "execution_count": 25,
     "metadata": {},
     "output_type": "execute_result"
    }
   ],
   "source": [
    "#\n",
    "# This shows the optimized computation graph that got compiled\n",
    "#\n",
    "svgdotprint(fun.maker.fgraph.outputs)"
   ]
  },
  {
   "cell_type": "code",
   "execution_count": 34,
   "metadata": {
    "collapsed": true
   },
   "outputs": [],
   "source": [
    "#\n",
    "# Everything works for matrices, too\n",
    "#\n",
    "\n",
    "Theta = TT.matrix('Theta')\n",
    "X = TT.matrix('X')\n",
    "Y = TT.matrix('Y')\n",
    "\n",
    "#\n",
    "# Question: what is this model?\n",
    "#\n",
    "\n",
    "Yhat = TT.dot(Theta.T, X)\n",
    "Errs = Yhat - Y\n",
    "Loss = (Errs**2).mean()\n",
    "Loss.name = 'Loss'"
   ]
  },
  {
   "cell_type": "code",
   "execution_count": 37,
   "metadata": {
    "collapsed": false
   },
   "outputs": [
    {
     "name": "stdout",
     "output_type": "stream",
     "text": [
      "(dLoss/dTheta)\n"
     ]
    }
   ],
   "source": [
    "#\n",
    "# No more manual gradient computations\n",
    "#\n",
    "dLossdTheta = theano.grad(Loss, Theta)\n",
    "print dLossdTheta"
   ]
  },
  {
   "cell_type": "markdown",
   "metadata": {},
   "source": [
    "Shared variables in Theano are allocated storage nodes"
   ]
  },
  {
   "cell_type": "code",
   "execution_count": 40,
   "metadata": {
    "collapsed": false
   },
   "outputs": [
    {
     "data": {
      "text/plain": [
       "<TensorType(float64, matrix)>"
      ]
     },
     "execution_count": 40,
     "metadata": {},
     "output_type": "execute_result"
    }
   ],
   "source": [
    "SV = theano.shared(np.zeros((2,2)))\n",
    "SV"
   ]
  },
  {
   "cell_type": "code",
   "execution_count": 41,
   "metadata": {
    "collapsed": false
   },
   "outputs": [
    {
     "data": {
      "text/plain": [
       "Shape: (2L, 2L)\n",
       "[[ 0.  0.]\n",
       " [ 0.  0.]]"
      ]
     },
     "execution_count": 41,
     "metadata": {},
     "output_type": "execute_result"
    }
   ],
   "source": [
    "SV.get_value()"
   ]
  },
  {
   "cell_type": "code",
   "execution_count": 42,
   "metadata": {
    "collapsed": false
   },
   "outputs": [
    {
     "data": {
      "text/plain": [
       "Shape: (2L, 2L)\n",
       "[[ 1.  1.]\n",
       " [ 1.  1.]]"
      ]
     },
     "execution_count": 42,
     "metadata": {},
     "output_type": "execute_result"
    }
   ],
   "source": [
    "SV.set_value(SV.get_value()+1)\n",
    "SV.get_value()"
   ]
  },
  {
   "cell_type": "markdown",
   "metadata": {},
   "source": [
    "Shared variables are best used to store parameters of models. They can be updated during each call of a theano function by using the updates keyword"
   ]
  },
  {
   "cell_type": "code",
   "execution_count": 39,
   "metadata": {
    "collapsed": false
   },
   "outputs": [
    {
     "name": "stdout",
     "output_type": "stream",
     "text": [
      "2.05034422874\n"
     ]
    }
   ],
   "source": [
    "#\n",
    "# A complete example, from https://github.com/Newmu/Theano-Tutorials/blob/master/1_linear_regression.py\n",
    "#\n",
    "\n",
    "trX = np.linspace(-1, 1, 101)\n",
    "trY = 2 * trX + np.random.randn(*trX.shape) * 0.33\n",
    "\n",
    "X = TT.scalar()\n",
    "Y = TT.scalar()\n",
    "\n",
    "def model(X, w):\n",
    "    return X * w\n",
    "\n",
    "w = theano.shared(np.asarray(0., dtype=theano.config.floatX))\n",
    "y = model(X, w)\n",
    "\n",
    "cost = TT.mean(TT.sqr(y - Y))\n",
    "gradient = TT.grad(cost=cost, wrt=w)\n",
    "updates = [[w, w - gradient * 0.01]]\n",
    "\n",
    "train = theano.function(inputs=[X, Y], outputs=cost, updates=updates, allow_input_downcast=True)\n",
    "\n",
    "for i in range(100):\n",
    "    for x, y in zip(trX, trY):\n",
    "        train(x, y)\n",
    "        \n",
    "print w.get_value() #something around 2"
   ]
  },
  {
   "cell_type": "markdown",
   "metadata": {},
   "source": [
    "Please feel free to use Theano for projects and for homewors 5 and later!\n",
    "\n",
    "More informations:\n",
    "\n",
    "1. Tutorials by alec Radford https://github.com/Newmu/Theano-Tutorials\n",
    "1. Deep learning tutorials http://deeplearning.net/tutorial/\n",
    "2. Theano tutorials http://deeplearning.net/software/theano/tutorial/\n",
    "3. My notebook from the Matlab, R, and Python class: http://nbviewer.ipython.org/urls/sites.google.com/a/cs.uni.wroc.pl/jch/teaching/teaching/marpy/materialyzwykladow14i15/wyklad14.ipynb\n",
    "\n",
    "There are many neural network libraries built on top of Theano:\n",
    "\n",
    "1. a lightweight one, nice for learning this course https://github.com/Lasagne/Lasagne\n",
    "2. a more heavy-weight one, for research https://github.com/mila-udem/blocks\n"
   ]
  },
  {
   "cell_type": "code",
   "execution_count": null,
   "metadata": {
    "collapsed": true
   },
   "outputs": [],
   "source": []
  }
 ],
 "metadata": {
  "kernelspec": {
   "display_name": "Python 2",
   "language": "python",
   "name": "python2"
  },
  "language_info": {
   "codemirror_mode": {
    "name": "ipython",
    "version": 2
   },
   "file_extension": ".py",
   "mimetype": "text/x-python",
   "name": "python",
   "nbconvert_exporter": "python",
   "pygments_lexer": "ipython2",
   "version": "2.7.11"
  }
 },
 "nbformat": 4,
 "nbformat_minor": 0
}
